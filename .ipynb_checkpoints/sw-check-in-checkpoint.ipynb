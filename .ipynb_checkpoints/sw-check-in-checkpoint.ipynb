{
 "cells": [
  {
   "cell_type": "code",
   "execution_count": 470,
   "id": "5b3e2686",
   "metadata": {},
   "outputs": [],
   "source": [
    "from selenium import webdriver\n",
    "from selenium.webdriver.chrome.service import Service\n",
    "from selenium.webdriver.common.by import By\n",
    "from selenium.webdriver.chrome.options import Options\n",
    "from webdriver_manager.chrome import ChromeDriverManager\n",
    "from datetime import datetime\n",
    "from datetime import timedelta\n",
    "import time\n",
    "import pytz\n",
    "from tzlocal import get_localzone"
   ]
  },
  {
   "cell_type": "code",
   "execution_count": 492,
   "id": "9b315133",
   "metadata": {},
   "outputs": [],
   "source": [
    "class Reservation():\n",
    "    \n",
    "    def __init__(self, confirm_num, first_name, last_name):\n",
    "        \n",
    "        # Set instance variables\n",
    "        self.confirm_num = confirm_num\n",
    "        self.first_name = first_name\n",
    "        self.last_name = last_name\n",
    "        \n",
    "        # Set driver\n",
    "        options = webdriver.ChromeOptions()\n",
    "        #options.add_argument('--headless')\n",
    "        self.driver = webdriver.Chrome(service=Service(ChromeDriverManager().install()), options=options)\n",
    "    \n",
    "    \n",
    "    def load_reservation_page(self):\n",
    "        '''\n",
    "        Loads view reservation web page\n",
    "        '''\n",
    "        self.driver.get('https://mobile.southwest.com/view-reservation')\n",
    "        \n",
    "        \n",
    "    def load_checkin_page(self):\n",
    "        '''\n",
    "        Loads check-in web page\n",
    "        '''\n",
    "        self.driver.get('https://mobile.southwest.com/check-in')\n",
    "    \n",
    "    \n",
    "    def enter_information(self, submit: bool):\n",
    "        '''\n",
    "        Enters and submits reservation information. Must be used when either viewing reservation or checking in.\n",
    "        '''\n",
    "        self.driver.find_element('name', 'recordLocator').send_keys(self.confirm_num) # Enter confirmation number\n",
    "        self.driver.find_element('name', 'firstName').send_keys(self.first_name)      # Enter first name\n",
    "        self.driver.find_element('name', 'lastName').send_keys(self.last_name)        # Enter last name\n",
    "        \n",
    "        if submit:\n",
    "            self.driver.find_element('class name', 'button--yellow').click()          # Click submit button\n",
    "        \n",
    "    \n",
    "    def click_submit(self):\n",
    "        '''\n",
    "        Clicks 'submit' on either reservation or check-in webpage\n",
    "        '''\n",
    "        self.driver.find_element('class name', 'button--yellow').click()\n",
    "        \n",
    "    \n",
    "    def leg(self):\n",
    "        '''\n",
    "        Determines if user is on first (departing) or second (returning) leg of trip.\n",
    "        Returns 'departing' or 'returning' string which is a required input for subsequent methods.\n",
    "        '''\n",
    "        # Retrieve dates and times for all flights in reservation\n",
    "        self.driver.implicitly_wait(10) # Wait for up to 10sec\n",
    "        dates = self.driver.find_elements('class name', 'flight-day')\n",
    "        times = self.driver.find_elements('class name', 'flight-time')\n",
    "        \n",
    "        # Parse out dates/times to depart/return and convert to datetime format (UTC)\n",
    "        depart_datetime = sw_datetime_to_utc(f'{dates[0].text} {times[0].text}')\n",
    "        return_datetime = sw_datetime_to_utc(f'{dates[1].text} {times[2].text}')\n",
    "        \n",
    "        # Determine which leg of the trip the passenger is on using datetime logic\n",
    "        if depart_datetime > datetime.now(tz=pytz.UTC):\n",
    "            return 'departing'\n",
    "        \n",
    "        else:\n",
    "            return 'returning'\n",
    "        \n",
    "    \n",
    "    def flight_datetime(self, leg):\n",
    "        '''\n",
    "        Returns flight time given the leg of the flight ('departing' or 'returning')\n",
    "        '''\n",
    "        # Indices to use for finding elements with the same class name\n",
    "        leg_index = {'departing': {'date': 0, 'time': 0}, 'returning': {'date': 1, 'time': 2}}\n",
    "        \n",
    "        # Retrieve dates and times for all flights in reservation\n",
    "        self.driver.implicitly_wait(10) # Wait for up to 10sec\n",
    "        dates = self.driver.find_elements('class name', 'flight-day')\n",
    "        times = self.driver.find_elements('class name', 'flight-time')\n",
    "        \n",
    "        # Get and return leg-specific date and time\n",
    "        date, time = dates[leg_index[leg]['date']].text, times[leg_index[leg]['time']].text\n",
    "        return date, time\n",
    "    \n",
    "    \n",
    "    def departure_location(self):\n",
    "        '''\n",
    "        Returns departure location for flight\n",
    "        '''\n",
    "        self.driver.implicitly_wait(10) # Wait for up to 10sec if element not found\n",
    "        departure_location = self.driver.find_element('class name', 'airport-info--detail').text.split(' to\\n')[0]\n",
    "        return departure_location\n",
    "    \n",
    "    \n",
    "    def arrival_location(self):\n",
    "        '''\n",
    "        Returns arrival location for flight\n",
    "        '''\n",
    "        self.driver.implicitly_wait(10) # Wait for up to 10sec if element not found\n",
    "        arrival_location = self.driver.find_element('class name', 'airport-info--detail').text.split(' to\\n')[1]\n",
    "        return arrival_location\n",
    "    \n",
    "    "
   ]
  },
  {
   "cell_type": "code",
   "execution_count": 418,
   "id": "5d18f54c",
   "metadata": {},
   "outputs": [],
   "source": [
    "def sw_datetime_to_utc(sw_datetime: str):\n",
    "    '''\n",
    "    Convert date and time reported by Southwest to UTC\n",
    "    Input format example: 'Wed, Aug 17, 2022 7:00AM'\n",
    "    '''\n",
    "    dt = datetime.strptime(sw_datetime, '%a, %b %d, %Y %I:%M%p')\n",
    "    datetime_utc = dt.replace(tzinfo=get_localzone()).astimezone(pytz.utc) # Make timezone aware and -> UTC\n",
    "    return datetime_utc\n",
    "\n"
   ]
  },
  {
   "cell_type": "code",
   "execution_count": 488,
   "id": "07b37d86",
   "metadata": {},
   "outputs": [],
   "source": [
    "def time_until_checkin(flight_time_utc):\n",
    "    '''\n",
    "    Return time delta object representing time until check-in (24hr before flight)\n",
    "    Input is datetime object in UTC\n",
    "    '''\n",
    "    now = datetime.now(tz=pytz.UTC)\n",
    "    time_until_flight = flight_time_utc - now\n",
    "    time_until_checkin = time_until_flight - timedelta(hours=24)\n",
    "    return time_until_checkin\n",
    "    \n",
    "    "
   ]
  },
  {
   "cell_type": "code",
   "execution_count": 475,
   "id": "213055b2",
   "metadata": {},
   "outputs": [],
   "source": [
    "def strfdelta(timedelta, fmt):\n",
    "    '''\n",
    "    Convert timedelta object to formatted string\n",
    "    Source: https://stackoverflow.com/questions/8906926/formatting-timedelta-objects\n",
    "    '''\n",
    "    d = {\"days\": timedelta.days}\n",
    "    d[\"hours\"], minsec = divmod(timedelta.seconds, 3600)\n",
    "    d[\"minutes\"], d[\"seconds\"] = divmod(minsec, 60)\n",
    "    return fmt.format(**d)\n",
    "\n"
   ]
  },
  {
   "cell_type": "code",
   "execution_count": 499,
   "id": "df38c64d",
   "metadata": {},
   "outputs": [],
   "source": [
    "def main(confirm_num, first_name, last_name):\n",
    "    \n",
    "    # Instantiate reservation object\n",
    "    reservation = Reservation(confirm_num, first_name, last_name)\n",
    "    \n",
    "    # View reservation information\n",
    "    reservation.load_reservation_page()\n",
    "    reservation.enter_information(submit=True)\n",
    "    \n",
    "    # Determine flight leg and flight date/time\n",
    "    leg = reservation.leg()\n",
    "    flight_date, flight_time = reservation.flight_datetime(leg=leg)\n",
    "    print(f'\\nFlight from {reservation.departure_location()} to {reservation.arrival_location()} '\n",
    "          f'is scheduled for {flight_time} on {flight_date}...')\n",
    "    \n",
    "    # Open check-in page and enter information\n",
    "    reservation.load_checkin_page()\n",
    "    reservation.enter_information(submit=False) # Wait until exactly 24hr before flight\n",
    "    \n",
    "    # Determine time until check-in\n",
    "    flight_time_utc = sw_datetime_to_utc(f'{flight_date} {flight_time}')\n",
    "    wait_time = time_until_checkin(flight_time_utc)\n",
    "    print(strfdelta(wait_time, \"\\n{days} days, {hours} hours and {minutes} minutes until check-in.\"))\n",
    "    \n",
    "    # Sleep until check-in\n",
    "    time.sleep(wait_time.total_seconds())\n",
    "          \n",
    "    # Check-in\n",
    "    reservation.click_submit()\n",
    "    print('\\nChecked in.')\n",
    "    time.sleep(5)\n",
    "    \n",
    "    "
   ]
  },
  {
   "cell_type": "code",
   "execution_count": 500,
   "id": "74f4ef3f",
   "metadata": {},
   "outputs": [
    {
     "name": "stdout",
     "output_type": "stream",
     "text": [
      "\n"
     ]
    },
    {
     "name": "stderr",
     "output_type": "stream",
     "text": [
      "[WDM] - ====== WebDriver manager ======\n"
     ]
    },
    {
     "name": "stdout",
     "output_type": "stream",
     "text": [
      "2022-07-11 00:48:30,828 INFO ====== WebDriver manager ======\n"
     ]
    },
    {
     "name": "stderr",
     "output_type": "stream",
     "text": [
      "[WDM] - Current google-chrome version is 103.0.5060\n"
     ]
    },
    {
     "name": "stdout",
     "output_type": "stream",
     "text": [
      "2022-07-11 00:48:30,958 INFO Current google-chrome version is 103.0.5060\n"
     ]
    },
    {
     "name": "stderr",
     "output_type": "stream",
     "text": [
      "[WDM] - Get LATEST chromedriver version for 103.0.5060 google-chrome\n"
     ]
    },
    {
     "name": "stdout",
     "output_type": "stream",
     "text": [
      "2022-07-11 00:48:30,959 INFO Get LATEST chromedriver version for 103.0.5060 google-chrome\n"
     ]
    },
    {
     "name": "stderr",
     "output_type": "stream",
     "text": [
      "[WDM] - Driver [/Users/bgraham/.wdm/drivers/chromedriver/mac64/103.0.5060.53/chromedriver] found in cache\n"
     ]
    },
    {
     "name": "stdout",
     "output_type": "stream",
     "text": [
      "2022-07-11 00:48:31,071 INFO Driver [/Users/bgraham/.wdm/drivers/chromedriver/mac64/103.0.5060.53/chromedriver] found in cache\n",
      "\n",
      "Flight from Denver, CO to Portland, OR is scheduled for 7:00AM on Wed, Aug 17, 2022...\n",
      "\n",
      "36 days, 6 hours and 11 minutes until check-in.\n",
      "\n",
      "Checked in.\n"
     ]
    }
   ],
   "source": [
    "main('2F8R4W', 'Brenton', 'Graham')"
   ]
  },
  {
   "cell_type": "code",
   "execution_count": null,
   "id": "284a2569",
   "metadata": {},
   "outputs": [],
   "source": []
  },
  {
   "cell_type": "code",
   "execution_count": null,
   "id": "f74e1687",
   "metadata": {},
   "outputs": [],
   "source": []
  },
  {
   "cell_type": "code",
   "execution_count": null,
   "id": "4fe921c5",
   "metadata": {},
   "outputs": [],
   "source": []
  },
  {
   "cell_type": "code",
   "execution_count": null,
   "id": "b7ab4d60",
   "metadata": {},
   "outputs": [],
   "source": []
  }
 ],
 "metadata": {
  "kernelspec": {
   "display_name": "Python 3",
   "language": "python",
   "name": "python3"
  },
  "language_info": {
   "codemirror_mode": {
    "name": "ipython",
    "version": 3
   },
   "file_extension": ".py",
   "mimetype": "text/x-python",
   "name": "python",
   "nbconvert_exporter": "python",
   "pygments_lexer": "ipython3",
   "version": "3.8.8"
  }
 },
 "nbformat": 4,
 "nbformat_minor": 5
}
